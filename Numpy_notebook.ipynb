{
 "cells": [
  {
   "cell_type": "markdown",
   "metadata": {},
   "source": [
    "# NUMPY"
   ]
  },
  {
   "cell_type": "code",
   "execution_count": 1,
   "metadata": {},
   "outputs": [],
   "source": [
    "import numpy as np"
   ]
  },
  {
   "cell_type": "code",
   "execution_count": 3,
   "metadata": {},
   "outputs": [
    {
     "name": "stdout",
     "output_type": "stream",
     "text": [
      "[1 2 3 4 5]\n"
     ]
    }
   ],
   "source": [
    "arr = np.array([1,2,3,4,5]) #ndarray creation\n",
    "print(arr)"
   ]
  },
  {
   "cell_type": "code",
   "execution_count": 4,
   "metadata": {},
   "outputs": [
    {
     "name": "stdout",
     "output_type": "stream",
     "text": [
      "1.23.5\n"
     ]
    }
   ],
   "source": [
    "print(np.__version__) #to check the numpy version "
   ]
  },
  {
   "cell_type": "code",
   "execution_count": 5,
   "metadata": {},
   "outputs": [
    {
     "data": {
      "text/plain": [
       "numpy.ndarray"
      ]
     },
     "execution_count": 5,
     "metadata": {},
     "output_type": "execute_result"
    }
   ],
   "source": [
    "type(arr)"
   ]
  },
  {
   "cell_type": "code",
   "execution_count": 6,
   "metadata": {},
   "outputs": [
    {
     "name": "stdout",
     "output_type": "stream",
     "text": [
      "[10 20 30 40 50]\n"
     ]
    }
   ],
   "source": [
    "arry= np.array((10,20,30,40,50))\n",
    "print(arry)"
   ]
  },
  {
   "cell_type": "markdown",
   "metadata": {},
   "source": [
    "# multidimenstional array"
   ]
  },
  {
   "cell_type": "code",
   "execution_count": 9,
   "metadata": {},
   "outputs": [],
   "source": [
    "yash = np.array(61)\n",
    "viraj = np.array((58,5))\n",
    "ram = np.array(((1,2,3),(1,3,4)))\n",
    "sita = np.array((((1,2,3,4,5),(5,6,7,8,9)),((9,8,7,6,4),(5,4,3,2,1))))\n",
    "shiva = np.array(((((1,2,3,4,5),(5,6,7,8,9)),((9,8,7,6,4),(5,4,3,2,1))),(((1,2,3,4,5),(5,6,7,8,9)),((9,8,7,6,4),(5,4,3,2,1)))))"
   ]
  },
  {
   "cell_type": "code",
   "execution_count": 10,
   "metadata": {},
   "outputs": [
    {
     "name": "stdout",
     "output_type": "stream",
     "text": [
      "0\n",
      "1\n",
      "2\n",
      "3\n",
      "4\n"
     ]
    }
   ],
   "source": [
    "print(yash.ndim)\n",
    "print(viraj.ndim)\n",
    "print(ram.ndim)\n",
    "print(sita.ndim)\n",
    "print(shiva.ndim)"
   ]
  },
  {
   "cell_type": "code",
   "execution_count": 14,
   "metadata": {},
   "outputs": [
    {
     "data": {
      "text/plain": [
       "array([1, 3, 4])"
      ]
     },
     "execution_count": 14,
     "metadata": {},
     "output_type": "execute_result"
    }
   ],
   "source": [
    "ram[1] #indexing the array"
   ]
  },
  {
   "cell_type": "code",
   "execution_count": 15,
   "metadata": {},
   "outputs": [
    {
     "data": {
      "text/plain": [
       "4"
      ]
     },
     "execution_count": 15,
     "metadata": {},
     "output_type": "execute_result"
    }
   ],
   "source": [
    "ram[1,2] #double indexing "
   ]
  },
  {
   "cell_type": "code",
   "execution_count": 16,
   "metadata": {},
   "outputs": [
    {
     "data": {
      "text/plain": [
       "63"
      ]
     },
     "execution_count": 16,
     "metadata": {},
     "output_type": "execute_result"
    }
   ],
   "source": [
    "#adding the index values directly \n",
    "viraj[0] + viraj[1]"
   ]
  },
  {
   "cell_type": "code",
   "execution_count": 21,
   "metadata": {},
   "outputs": [
    {
     "name": "stdout",
     "output_type": "stream",
     "text": [
      "1\n",
      "3\n"
     ]
    }
   ],
   "source": [
    "x =  np.array(((1,2,3),(1,3,4)))\n",
    "#negative indexing in numpy array nd array \n",
    "print(x[-1,-3])\n",
    "print(x[0,-1])"
   ]
  },
  {
   "cell_type": "code",
   "execution_count": 28,
   "metadata": {},
   "outputs": [
    {
     "name": "stdout",
     "output_type": "stream",
     "text": [
      "[1 2 3 4 5]\n",
      "[ 4  5  6  7  8  9 10]\n",
      "[ 1  2  3  4  5  6  7  8  9 10]\n",
      "[1 3 5 7 9]\n"
     ]
    }
   ],
   "source": [
    "y = np.array((1,2,3,4,5,6,7,8,9,10))\n",
    "print(y[:5])\n",
    "print(y[3:])\n",
    "print(y[:])\n",
    "print(y[::2])"
   ]
  },
  {
   "cell_type": "markdown",
   "metadata": {},
   "source": [
    "# Data type in ndarray"
   ]
  },
  {
   "cell_type": "markdown",
   "metadata": {},
   "source": [
    "## \n",
    "    i - integer\n",
    "    b - boolean\n",
    "    u - unsigned integer\n",
    "    f - float\n",
    "    c - complex float\n",
    "    m - timedelta\n",
    "    M - datetime\n",
    "    O - object\n",
    "    S - string\n",
    "    U - unicode string\n",
    "    V - fixed chunk of memory for other type ( void )\n"
   ]
  },
  {
   "cell_type": "code",
   "execution_count": 32,
   "metadata": {},
   "outputs": [
    {
     "name": "stdout",
     "output_type": "stream",
     "text": [
      "['apple' 'pineapple' 'balda wala apple']\n",
      "<U16\n"
     ]
    }
   ],
   "source": [
    "fruits = np.array((\"apple\",\"pineapple\",\"balda wala apple\"))\n",
    "print(fruits)\n",
    "print(fruits.dtype)"
   ]
  },
  {
   "cell_type": "code",
   "execution_count": 30,
   "metadata": {},
   "outputs": [
    {
     "name": "stdout",
     "output_type": "stream",
     "text": [
      "[b'1' b'2' b'3' b'4' b'5']\n",
      "|S1\n"
     ]
    }
   ],
   "source": [
    "st_numbers = np.array((1,2,3,4,5),dtype='S')\n",
    "print(st_numbers)\n",
    "print(st_numbers.dtype)"
   ]
  },
  {
   "cell_type": "code",
   "execution_count": 37,
   "metadata": {},
   "outputs": [
    {
     "name": "stdout",
     "output_type": "stream",
     "text": [
      "[1.2 2.2 3.4 0.1]\n"
     ]
    }
   ],
   "source": [
    "#float array to int array \n",
    "int_Float = np.array((1.2,2.2,3.4,0.1))\n",
    "print(int_Float)"
   ]
  },
  {
   "cell_type": "code",
   "execution_count": 38,
   "metadata": {},
   "outputs": [
    {
     "name": "stdout",
     "output_type": "stream",
     "text": [
      "[1 2 3 0]\n",
      "int32\n"
     ]
    }
   ],
   "source": [
    "#use astype function\n",
    "Float_int = int_Float.astype('i')\n",
    "print(Float_int)\n",
    "print(Float_int.dtype)"
   ]
  },
  {
   "cell_type": "code",
   "execution_count": 39,
   "metadata": {},
   "outputs": [
    {
     "name": "stdout",
     "output_type": "stream",
     "text": [
      "[1 2 3 0]\n",
      "int64\n"
     ]
    }
   ],
   "source": [
    "F_i= int_Float.astype(\"int\")\n",
    "print(F_i)\n",
    "print(F_i.dtype)"
   ]
  },
  {
   "cell_type": "code",
   "execution_count": 40,
   "metadata": {},
   "outputs": [
    {
     "name": "stdout",
     "output_type": "stream",
     "text": [
      "[ True  True  True False]\n",
      "bool\n"
     ]
    }
   ],
   "source": [
    "int_bool = F_i.astype(\"bool\")\n",
    "print(int_bool)\n",
    "print(int_bool.dtype)"
   ]
  },
  {
   "cell_type": "code",
   "execution_count": 41,
   "metadata": {},
   "outputs": [
    {
     "name": "stdout",
     "output_type": "stream",
     "text": [
      "[ True  True  True  True]\n",
      "bool\n"
     ]
    }
   ],
   "source": [
    "float_bool = int_Float.astype(\"bool\")\n",
    "print(float_bool)\n",
    "print(float_bool.dtype)"
   ]
  },
  {
   "cell_type": "markdown",
   "metadata": {},
   "source": [
    "## copy vs view"
   ]
  },
  {
   "cell_type": "code",
   "execution_count": 50,
   "metadata": {},
   "outputs": [
    {
     "name": "stdout",
     "output_type": "stream",
     "text": [
      "[58 20 30 40 50]\n",
      "[10 20 30 61 50]\n",
      "4457708304\n",
      "4456954928\n"
     ]
    }
   ],
   "source": [
    "arr = np.array((10,20,30,40,50))\n",
    "raay = arr.copy()\n",
    "arr[0]=58\n",
    "raay[3] = 61\n",
    "print(arr,raay,sep=\"\\n\")\n",
    "print(id(arr),id(raay),sep=\"\\n\")"
   ]
  },
  {
   "cell_type": "code",
   "execution_count": 49,
   "metadata": {},
   "outputs": [
    {
     "name": "stdout",
     "output_type": "stream",
     "text": [
      "[61 20 30 29 50]\n",
      "[61 20 30 29 50]\n"
     ]
    }
   ],
   "source": [
    "arr = np.array((10,20,30,40,50))\n",
    "carry = arr.view()\n",
    "arr[0]= 61\n",
    "carry[3] = 29\n",
    "print(arr,carry,sep=\"\\n\")"
   ]
  },
  {
   "cell_type": "code",
   "execution_count": 52,
   "metadata": {},
   "outputs": [
    {
     "name": "stdout",
     "output_type": "stream",
     "text": [
      "None\n",
      "[10 20 30 40 50]\n"
     ]
    }
   ],
   "source": [
    "#base variable or function called to check whether a array owns it data will reflect the data it doesnt own otherwise none will be printed\n",
    "arr = np.array((10,20,30,40,50))\n",
    "x = arr.copy()\n",
    "y = arr.view()\n",
    "print(x.base)\n",
    "print(y.base)"
   ]
  },
  {
   "cell_type": "markdown",
   "metadata": {},
   "source": [
    "## shape of array"
   ]
  },
  {
   "cell_type": "code",
   "execution_count": 57,
   "metadata": {},
   "outputs": [],
   "source": [
    "x = np.array(61)\n",
    "y = np.array((58,5))\n",
    "z = np.array(((1,2,3),(1,3,4)))\n",
    "a = np.array((((1,2,3,4,5),(5,6,7,8,9)),((9,8,7,6,4),(5,4,3,2,1))))\n",
    "b = np.array(((((1,2,3,4,5),(5,6,7,8,9)),((9,8,7,6,4),(5,4,3,2,1))),(((1,2,3,4,5),(5,6,7,8,9)),((9,8,7,6,4),(5,4,3,2,1)))))"
   ]
  },
  {
   "cell_type": "code",
   "execution_count": 58,
   "metadata": {},
   "outputs": [
    {
     "name": "stdout",
     "output_type": "stream",
     "text": [
      "()\n",
      "(2,)\n",
      "(2, 3)\n",
      "(2, 2, 5)\n",
      "(2, 2, 2, 5)\n"
     ]
    }
   ],
   "source": [
    "print(x.shape,y.shape,z.shape,a.shape,b.shape,sep=\"\\n\")"
   ]
  },
  {
   "cell_type": "markdown",
   "metadata": {},
   "source": [
    "# DAY 2"
   ]
  },
  {
   "cell_type": "markdown",
   "metadata": {},
   "source": [
    "## Reshape"
   ]
  },
  {
   "cell_type": "code",
   "execution_count": 12,
   "metadata": {},
   "outputs": [
    {
     "name": "stdout",
     "output_type": "stream",
     "text": [
      "original array : \n",
      "[ 1  2  3  4  5  6  7  8  9 10 11 12]\n",
      "\n",
      "reshaped array : \n",
      "[[ 1  2  3]\n",
      " [ 4  5  6]\n",
      " [ 7  8  9]\n",
      " [10 11 12]]\n"
     ]
    }
   ],
   "source": [
    "import numpy as np\n",
    "\n",
    "vy= np.array([1,2,3,4,5,6,7,8,9,10,11,12])\n",
    "yv= vy.reshape(4,3)\n",
    "print(\"original array : \",vy,\"\\nreshaped array : \",yv,sep=\"\\n\")"
   ]
  },
  {
   "cell_type": "code",
   "execution_count": 18,
   "metadata": {},
   "outputs": [
    {
     "name": "stdout",
     "output_type": "stream",
     "text": [
      "3d reshape array\n",
      " [[[ 1  2]\n",
      "  [ 3  4]\n",
      "  [ 5  6]]\n",
      "\n",
      " [[ 7  8]\n",
      "  [ 9 10]\n",
      "  [11 12]]]\n"
     ]
    }
   ],
   "source": [
    "yv3 = vy.reshape(2,3,2)\n",
    "print(\"3d reshape array\\n\",yv3)"
   ]
  },
  {
   "cell_type": "code",
   "execution_count": 23,
   "metadata": {},
   "outputs": [
    {
     "name": "stdout",
     "output_type": "stream",
     "text": [
      "[ 1  2  3  4  5  6  7  8  9 10 11 12]\n",
      "[ 1  2  3  4  5  6  7  8  9 10 11 12]\n",
      "[[ 1  2  3]\n",
      " [ 4  5  6]\n",
      " [ 7  8  9]\n",
      " [10 11 12]]\n"
     ]
    }
   ],
   "source": [
    "print(yv3.base)\n",
    "print(yv.base,yv,sep=\"\\n\")"
   ]
  },
  {
   "cell_type": "code",
   "execution_count": 31,
   "metadata": {},
   "outputs": [
    {
     "name": "stdout",
     "output_type": "stream",
     "text": [
      "[[[ 1  2]\n",
      "  [ 3  4]]\n",
      "\n",
      " [[ 5  6]\n",
      "  [ 7  8]]\n",
      "\n",
      " [[ 9 10]\n",
      "  [11 12]]]\n"
     ]
    }
   ],
   "source": [
    "#Unknown dimentaion  --- to set accoring to the possible dimenstion only one possible \n",
    "vy= np.array([1,2,3,4,5,6,7,8,9,10,11,12])\n",
    "baby = vy.reshape(3,2,-1)\n",
    "print(baby)"
   ]
  },
  {
   "cell_type": "code",
   "execution_count": 33,
   "metadata": {},
   "outputs": [
    {
     "name": "stdout",
     "output_type": "stream",
     "text": [
      "flattend array : \t[1 2 3 4 5 6]\n"
     ]
    }
   ],
   "source": [
    "pr = np.array([[1,2,3],[4,5,6]])\n",
    "r = pr.reshape(-1)\n",
    "print(\"flattend array : \",r,sep=\"\\t\")"
   ]
  },
  {
   "cell_type": "markdown",
   "metadata": {},
   "source": [
    "# iteration"
   ]
  },
  {
   "cell_type": "code",
   "execution_count": 34,
   "metadata": {},
   "outputs": [
    {
     "name": "stdout",
     "output_type": "stream",
     "text": [
      "1\n",
      "2\n",
      "3\n",
      "4\n",
      "5\n",
      "6\n",
      "7\n",
      "8\n",
      "9\n",
      "10\n",
      "11\n",
      "12\n"
     ]
    }
   ],
   "source": [
    "vy= np.array([1,2,3,4,5,6,7,8,9,10,11,12])\n",
    "for i in vy:\n",
    "    print(i)"
   ]
  },
  {
   "cell_type": "code",
   "execution_count": 40,
   "metadata": {},
   "outputs": [
    {
     "name": "stdout",
     "output_type": "stream",
     "text": [
      "1\n",
      "[ 1  2  3  4  5  6  7  8  9 10 11 12]\n",
      "2\n",
      "[ 1  2  3  4  5  6  7  8  9 10 11 12]\n",
      "3\n",
      "[ 1  2  3  4  5  6  7  8  9 10 11 12]\n",
      "4\n",
      "[ 1  2  3  4  5  6  7  8  9 10 11 12]\n",
      "5\n",
      "[ 1  2  3  4  5  6  7  8  9 10 11 12]\n",
      "6\n",
      "[ 1  2  3  4  5  6  7  8  9 10 11 12]\n",
      "7\n",
      "[ 1  2  3  4  5  6  7  8  9 10 11 12]\n",
      "8\n",
      "[ 1  2  3  4  5  6  7  8  9 10 11 12]\n",
      "9\n",
      "[ 1  2  3  4  5  6  7  8  9 10 11 12]\n",
      "10\n",
      "[ 1  2  3  4  5  6  7  8  9 10 11 12]\n",
      "11\n",
      "[ 1  2  3  4  5  6  7  8  9 10 11 12]\n",
      "12\n",
      "[ 1  2  3  4  5  6  7  8  9 10 11 12]\n"
     ]
    }
   ],
   "source": [
    "vy= np.array([1,2,3,4,5,6,7,8,9,10,11,12])\n",
    "for i in vy:\n",
    "    print(i,vy,sep=\"\\n\")"
   ]
  },
  {
   "cell_type": "code",
   "execution_count": 41,
   "metadata": {},
   "outputs": [
    {
     "name": "stdout",
     "output_type": "stream",
     "text": [
      "[1 2 3]\n",
      "[4 5 6]\n"
     ]
    }
   ],
   "source": [
    "import numpy as np\n",
    "\n",
    "arr = np.array([[1, 2, 3], [4, 5, 6]])\n",
    "\n",
    "for x in arr:\n",
    "  print(x) "
   ]
  },
  {
   "cell_type": "code",
   "execution_count": 46,
   "metadata": {},
   "outputs": [
    {
     "name": "stdout",
     "output_type": "stream",
     "text": [
      "[1 2 3 4]\n",
      "[5 6 7 8]\n",
      "[ 9 10 11 12]\n"
     ]
    }
   ],
   "source": [
    "vy= np.array([1,2,3,4,5,6,7,8,9,10,11,12])\n",
    "x = vy.reshape(-1,4)\n",
    "for i in x:\n",
    "    print(i)"
   ]
  },
  {
   "cell_type": "code",
   "execution_count": 48,
   "metadata": {},
   "outputs": [
    {
     "name": "stdout",
     "output_type": "stream",
     "text": [
      "[[1 2 3]\n",
      " [4 5 6]]\n",
      "[[ 7  8  9]\n",
      " [10 11 12]]\n"
     ]
    }
   ],
   "source": [
    "vy= np.array([1,2,3,4,5,6,7,8,9,10,11,12])\n",
    "y = vy.reshape(2,2,-1)\n",
    "for i in y:\n",
    "    print(i)"
   ]
  },
  {
   "cell_type": "code",
   "execution_count": 49,
   "metadata": {},
   "outputs": [
    {
     "name": "stdout",
     "output_type": "stream",
     "text": [
      "1\n",
      "2\n",
      "3\n",
      "4\n",
      "5\n",
      "6\n",
      "7\n",
      "8\n",
      "9\n",
      "10\n",
      "11\n",
      "12\n"
     ]
    }
   ],
   "source": [
    "# iterating to scaler \n",
    "arr = np.array([[[1, 2, 3], [4, 5, 6]], [[7, 8, 9], [10, 11, 12]]])\n",
    "for i in arr:\n",
    "    for j in i:\n",
    "        for k in j:\n",
    "            print(k)"
   ]
  },
  {
   "cell_type": "code",
   "execution_count": 50,
   "metadata": {},
   "outputs": [
    {
     "name": "stdout",
     "output_type": "stream",
     "text": [
      "1\n",
      "2\n",
      "3\n",
      "4\n",
      "5\n",
      "6\n",
      "7\n",
      "8\n",
      "9\n",
      "10\n",
      "11\n",
      "12\n"
     ]
    }
   ],
   "source": [
    "#nditer() function - helping function for the loops \n",
    "arr = np.array([[[1, 2, 3], [4, 5, 6]], [[7, 8, 9], [10, 11, 12]]])\n",
    "for i in np.nditer(arr):\n",
    "    print(i)"
   ]
  },
  {
   "cell_type": "code",
   "execution_count": 52,
   "metadata": {},
   "outputs": [
    {
     "name": "stdout",
     "output_type": "stream",
     "text": [
      "b'1' |S21\n",
      "b'2' |S21\n",
      "b'3' |S21\n",
      "b'4' |S21\n",
      "b'5' |S21\n",
      "b'6' |S21\n",
      "b'7' |S21\n",
      "b'8' |S21\n",
      "b'9' |S21\n",
      "b'10' |S21\n",
      "b'11' |S21\n",
      "b'12' |S21\n"
     ]
    }
   ],
   "source": [
    "#iterating array with different data type  , nditer flag = \"buffer\" - operation doesnt change type on spot need space,op_dtype\n",
    "vy = np.array((1,2,3,4,5,6,7,8,9,10,11,12))\n",
    "for x in np.nditer(vy,flags =['buffered'],op_dtypes='S'):\n",
    "    print(x,x.dtype)\n"
   ]
  },
  {
   "cell_type": "code",
   "execution_count": 56,
   "metadata": {},
   "outputs": [
    {
     "name": "stdout",
     "output_type": "stream",
     "text": [
      "1\n",
      "4\n",
      "5\n",
      "8\n"
     ]
    }
   ],
   "source": [
    "yv =  np.array([[1, 2, 3, 4], [5, 6, 7, 8]])\n",
    "for i in np.nditer(yv[:, ::3]):\n",
    "    print(i)"
   ]
  },
  {
   "cell_type": "code",
   "execution_count": 62,
   "metadata": {},
   "outputs": [
    {
     "name": "stdout",
     "output_type": "stream",
     "text": [
      "value of index (0,) is 10\n",
      "value of index (1,) is 20\n",
      "value of index (2,) is 30\n"
     ]
    }
   ],
   "source": [
    "vy = np.array([10,20,30])\n",
    "for i, x in np.ndenumerate(vy):\n",
    "    #print(\"value of index \",i,\" is :\",x)\n",
    "    print(f\"value of index {i} is {x}\")\n"
   ]
  },
  {
   "cell_type": "code",
   "execution_count": 63,
   "metadata": {},
   "outputs": [
    {
     "name": "stdout",
     "output_type": "stream",
     "text": [
      "value of index (0, 0, 0) is 1\n",
      "value of index (0, 0, 1) is 2\n",
      "value of index (0, 0, 2) is 3\n",
      "value of index (0, 1, 0) is 4\n",
      "value of index (0, 1, 1) is 5\n",
      "value of index (0, 1, 2) is 6\n",
      "value of index (1, 0, 0) is 7\n",
      "value of index (1, 0, 1) is 8\n",
      "value of index (1, 0, 2) is 9\n",
      "value of index (1, 1, 0) is 10\n",
      "value of index (1, 1, 1) is 11\n",
      "value of index (1, 1, 2) is 12\n"
     ]
    }
   ],
   "source": [
    "arr = np.array([[[1, 2, 3], [4, 5, 6]], [[7, 8, 9], [10, 11, 12]]])\n",
    "for i, x in np.ndenumerate(arr):\n",
    "    print(f\"value of index {i} is {x}\")"
   ]
  },
  {
   "cell_type": "markdown",
   "metadata": {},
   "source": [
    "# Join and stack "
   ]
  },
  {
   "cell_type": "code",
   "execution_count": 65,
   "metadata": {},
   "outputs": [
    {
     "name": "stdout",
     "output_type": "stream",
     "text": [
      "[1 2 3 9 8 7]\n"
     ]
    }
   ],
   "source": [
    "import numpy as np\n",
    "bahar = np.array([1,2,3])\n",
    "andar = np.array([9,8,7])\n",
    "andar_bahar = np.concatenate((bahar,andar))\n",
    "print(andar_bahar)"
   ]
  },
  {
   "cell_type": "code",
   "execution_count": 71,
   "metadata": {},
   "outputs": [
    {
     "name": "stdout",
     "output_type": "stream",
     "text": [
      "[[1 2 5 6]\n",
      " [3 4 7 8]] \n",
      "\n",
      " [[1 2]\n",
      " [3 4]\n",
      " [5 6]\n",
      " [7 8]]\n"
     ]
    }
   ],
   "source": [
    "arr1 = np.array([[1, 2], [3, 4]])\n",
    "\n",
    "arr2 = np.array([[5, 6], [7, 8]])\n",
    "\n",
    "arr3 = np.concatenate((arr1,arr2),axis = 1) #axis = change the layout axis 0 is default\n",
    "arr4 = np.concatenate((arr1,arr2),axis=0)\n",
    "print(arr3,\"\\n\\n\",arr4)"
   ]
  },
  {
   "cell_type": "code",
   "execution_count": 73,
   "metadata": {},
   "outputs": [
    {
     "name": "stdout",
     "output_type": "stream",
     "text": [
      "[[1 2 3]\n",
      " [4 5 6]]\n",
      "\n",
      "[1 2 3 4 5 6]\n",
      "\n",
      "[[1 2 3]\n",
      " [4 5 6]]\n",
      "\n",
      "[[[1 4]\n",
      "  [2 5]\n",
      "  [3 6]]]\n"
     ]
    }
   ],
   "source": [
    "#stack ,hstack ,vstack and d-stack\n",
    "arr1 = np.array([1, 2, 3])\n",
    "arr2 = np.array([4, 5, 6])\n",
    "\n",
    "st = np.stack((arr1,arr2)) #default is vertical stack\n",
    "sth = np.hstack((arr1,arr2))\n",
    "stv = np.vstack((arr1,arr2))\n",
    "std = np.dstack((arr1,arr2))\n",
    "\n",
    "print(st,sth,stv,std,sep=\"\\n\\n\")"
   ]
  },
  {
   "cell_type": "markdown",
   "metadata": {},
   "source": [
    "# splitting array"
   ]
  },
  {
   "cell_type": "code",
   "execution_count": 76,
   "metadata": {},
   "outputs": [
    {
     "name": "stdout",
     "output_type": "stream",
     "text": [
      "[array([1, 2, 3]), array([4, 5, 6]), array([7, 8, 9]), array([10, 11, 12])]\n",
      "[array([1, 2, 3, 4]), array([5, 6, 7, 8]), array([ 9, 10, 11, 12])]\n"
     ]
    }
   ],
   "source": [
    "vy = np.array((1,2,3,4,5,6,7,8,9,10,11,12))\n",
    "spl = np.array_split(vy,4)\n",
    "xpl = np.array_split(vy,3)\n",
    "print(spl)\n",
    "print(xpl)"
   ]
  },
  {
   "cell_type": "code",
   "execution_count": 78,
   "metadata": {},
   "outputs": [
    {
     "name": "stdout",
     "output_type": "stream",
     "text": [
      "[1 2 3]\n",
      "[1 2 3 4]\n",
      "[7 8 9]\n"
     ]
    }
   ],
   "source": [
    "print(spl[0])\n",
    "print(xpl[0])\n",
    "print(spl[2])"
   ]
  },
  {
   "cell_type": "code",
   "execution_count": 80,
   "metadata": {},
   "outputs": [
    {
     "name": "stdout",
     "output_type": "stream",
     "text": [
      "[array([[1, 2],\n",
      "       [3, 4]]), array([[5, 6],\n",
      "       [7, 8]]), array([[ 9, 10],\n",
      "       [11, 12]])]\n"
     ]
    }
   ],
   "source": [
    "#2d array into three different  2D arrays\n",
    "arr = np.array([[1, 2], [3, 4], [5, 6], [7, 8], [9, 10], [11, 12]])\n",
    "thr = np.array_split(arr,3)\n",
    "print(thr)"
   ]
  },
  {
   "cell_type": "code",
   "execution_count": 81,
   "metadata": {},
   "outputs": [
    {
     "name": "stdout",
     "output_type": "stream",
     "text": [
      "[array([[ 1],\n",
      "       [ 3],\n",
      "       [ 5],\n",
      "       [ 7],\n",
      "       [ 9],\n",
      "       [11]]), array([[ 2],\n",
      "       [ 4],\n",
      "       [ 6],\n",
      "       [ 8],\n",
      "       [10],\n",
      "       [12]]), array([], shape=(6, 0), dtype=int64)]\n"
     ]
    }
   ],
   "source": [
    "arr = np.array([[1, 2], [3, 4], [5, 6], [7, 8], [9, 10], [11, 12]])\n",
    "thr = np.array_split(arr,3,axis=1)#alternative use hsplit without axis value\n",
    "print(thr)"
   ]
  },
  {
   "cell_type": "markdown",
   "metadata": {},
   "source": [
    "# search"
   ]
  },
  {
   "cell_type": "code",
   "execution_count": 85,
   "metadata": {},
   "outputs": [
    {
     "name": "stdout",
     "output_type": "stream",
     "text": [
      "(array([ 3,  6,  8, 13]),)\n"
     ]
    }
   ],
   "source": [
    "viraj_yash = np.array((1,2,3,55,6,7,55,9,55,21,61,58,200,55))\n",
    "yash_viraj = np.where(viraj_yash == 55)\n",
    "print(yash_viraj)"
   ]
  },
  {
   "cell_type": "code",
   "execution_count": 86,
   "metadata": {},
   "outputs": [
    {
     "name": "stdout",
     "output_type": "stream",
     "text": [
      "[ 1  2  3  4  5  6  7  8  9 10 11 12]\n",
      "(array([ 1,  3,  5,  7,  9, 11]),)\n"
     ]
    }
   ],
   "source": [
    "#for even\n",
    "vy = np.array((1,2,3,4,5,6,7,8,9,10,11,12))\n",
    "x = np.where(vy%2 == 0)\n",
    "print(vy,x,sep=\"\\n\")"
   ]
  },
  {
   "cell_type": "code",
   "execution_count": 87,
   "metadata": {},
   "outputs": [
    {
     "name": "stdout",
     "output_type": "stream",
     "text": [
      "[ 1  2  3  4  5  6  7  8  9 10 11 12]\n",
      "(array([ 0,  2,  4,  6,  8, 10]),)\n"
     ]
    }
   ],
   "source": [
    "vy = np.array((1,2,3,4,5,6,7,8,9,10,11,12))\n",
    "x = np.where(vy%2 == 1)\n",
    "print(vy,x,sep=\"\\n\")\n",
    "\n",
    "\n",
    "#search sorted pada tha w3school se ,multivalue "
   ]
  },
  {
   "cell_type": "markdown",
   "metadata": {},
   "source": [
    "# SORT"
   ]
  },
  {
   "cell_type": "code",
   "execution_count": 88,
   "metadata": {},
   "outputs": [
    {
     "name": "stdout",
     "output_type": "stream",
     "text": [
      "[  1   2   3   6   7   9  21  55  55  55  55  58  61 200]\n"
     ]
    }
   ],
   "source": [
    "viraj_yash = np.array((1,2,3,55,6,7,55,9,55,21,61,58,200,55))\n",
    "print(np.sort(viraj_yash))"
   ]
  },
  {
   "cell_type": "code",
   "execution_count": 89,
   "metadata": {},
   "outputs": [
    {
     "name": "stdout",
     "output_type": "stream",
     "text": [
      "['bulbasour' 'charmander' 'mewtwo' 'pikachu' 'squatle']\n"
     ]
    }
   ],
   "source": [
    "#alphabetical order sort \n",
    "pokemon = np.array((\"squatle\",\"charmander\",\"bulbasour\",\"pikachu\",\"mewtwo\"))\n",
    "print(np.sort(pokemon))"
   ]
  },
  {
   "cell_type": "code",
   "execution_count": 93,
   "metadata": {},
   "outputs": [
    {
     "name": "stdout",
     "output_type": "stream",
     "text": [
      "['squatle' 'charmander' 'bulbasour' 'pikachu']\n"
     ]
    }
   ],
   "source": [
    "booler= [True,True,True,True,False]\n",
    "is_staterpokemon = pokemon[booler]\n",
    "print(is_staterpokemon)"
   ]
  },
  {
   "cell_type": "code",
   "execution_count": 94,
   "metadata": {},
   "outputs": [
    {
     "name": "stdout",
     "output_type": "stream",
     "text": [
      "[False  True False  True False  True False]\n",
      "[2 4 6]\n"
     ]
    }
   ],
   "source": [
    "arr = np.array([1, 2, 3, 4, 5, 6, 7])\n",
    "\n",
    "filter_arr = arr % 2 == 0\n",
    "\n",
    "newarr = arr[filter_arr]\n",
    "\n",
    "print(filter_arr)\n",
    "print(newarr) #otherwise we can use if else conditional statement s\n"
   ]
  },
  {
   "cell_type": "code",
   "execution_count": null,
   "metadata": {},
   "outputs": [],
   "source": []
  }
 ],
 "metadata": {
  "kernelspec": {
   "display_name": "ML-env",
   "language": "python",
   "name": "python3"
  },
  "language_info": {
   "codemirror_mode": {
    "name": "ipython",
    "version": 3
   },
   "file_extension": ".py",
   "mimetype": "text/x-python",
   "name": "python",
   "nbconvert_exporter": "python",
   "pygments_lexer": "ipython3",
   "version": "3.11.5"
  }
 },
 "nbformat": 4,
 "nbformat_minor": 2
}
